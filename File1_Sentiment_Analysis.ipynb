{
 "cells": [
  {
   "cell_type": "markdown",
   "id": "731b05b5-681c-406d-87ec-b43b5fbc70d8",
   "metadata": {},
   "source": [
    "## Sentiment Analysis  "
   ]
  },
  {
   "cell_type": "markdown",
   "id": "31e4906f-6da4-4a81-a0d1-13bc027e99fb",
   "metadata": {},
   "source": [
    "#### 1. Importing necessary libraries and dataset"
   ]
  },
  {
   "cell_type": "code",
   "execution_count": 25,
   "id": "95e0e292-94ad-4a91-aa68-e1baf944c462",
   "metadata": {},
   "outputs": [
    {
     "name": "stdout",
     "output_type": "stream",
     "text": [
      "Collecting en-core-web-lg==3.8.0\n",
      "  Downloading https://github.com/explosion/spacy-models/releases/download/en_core_web_lg-3.8.0/en_core_web_lg-3.8.0-py3-none-any.whl (400.7 MB)\n",
      "\u001b[2K     \u001b[90m━━━━━━━━━━━━━━━━━━━━━━━━━━━━━━━━━━━━━━━\u001b[0m \u001b[32m400.7/400.7 MB\u001b[0m \u001b[31m4.4 MB/s\u001b[0m eta \u001b[36m0:00:00\u001b[0m00:01\u001b[0m00:01\u001b[0m\n",
      "\u001b[?25h\u001b[38;5;2m✔ Download and installation successful\u001b[0m\n",
      "You can now load the package via spacy.load('en_core_web_lg')\n"
     ]
    }
   ],
   "source": [
    "!python -m spacy download en_core_web_lg\n",
    "!pip install -q vaderSentiment"
   ]
  },
  {
   "cell_type": "code",
   "execution_count": 43,
   "id": "50aa2785-ecef-4a25-9530-9e3f2789047a",
   "metadata": {},
   "outputs": [],
   "source": [
    "import pandas as pd\n",
    "import numpy as np\n",
    "import spacy\n",
    "import nltk\n",
    "import matplotlib.pyplot as plt\n",
    "import seaborn as sns\n",
    "from sklearn.model_selection import train_test_split\n",
    "from sklearn.feature_extraction.text import CountVectorizer, TfidfVectorizer\n",
    "from sklearn.naive_bayes import MultinomialNB\n",
    "from sklearn.svm import SVC\n",
    "from sklearn.linear_model import LogisticRegression\n",
    "from sklearn.metrics import classification_report, accuracy_score\n",
    "from vaderSentiment.vaderSentiment import SentimentIntensityAnalyzer\n",
    "from sklearn.feature_selection import SelectKBest, mutual_info_classif\n",
    "from IPython.display import display"
   ]
  },
  {
   "cell_type": "code",
   "execution_count": 45,
   "id": "60fb6001-f034-49aa-b3cb-c870f877a73c",
   "metadata": {},
   "outputs": [],
   "source": [
    "nlp = spacy.load(\"en_core_web_lg\")"
   ]
  },
  {
   "cell_type": "code",
   "execution_count": 47,
   "id": "da1c055c-faa6-4ec8-aa97-ad969a9290db",
   "metadata": {},
   "outputs": [
    {
     "data": {
      "text/html": [
       "<div>\n",
       "<style scoped>\n",
       "    .dataframe tbody tr th:only-of-type {\n",
       "        vertical-align: middle;\n",
       "    }\n",
       "\n",
       "    .dataframe tbody tr th {\n",
       "        vertical-align: top;\n",
       "    }\n",
       "\n",
       "    .dataframe thead th {\n",
       "        text-align: right;\n",
       "    }\n",
       "</style>\n",
       "<table border=\"1\" class=\"dataframe\">\n",
       "  <thead>\n",
       "    <tr style=\"text-align: right;\">\n",
       "      <th></th>\n",
       "      <th>review_id</th>\n",
       "      <th>user_id</th>\n",
       "      <th>business_id</th>\n",
       "      <th>stars</th>\n",
       "      <th>useful</th>\n",
       "      <th>funny</th>\n",
       "      <th>cool</th>\n",
       "      <th>text</th>\n",
       "      <th>date</th>\n",
       "    </tr>\n",
       "  </thead>\n",
       "  <tbody>\n",
       "    <tr>\n",
       "      <th>0</th>\n",
       "      <td>IVS7do_HBzroiCiymNdxDg</td>\n",
       "      <td>fdFgZQQYQJeEAshH4lxSfQ</td>\n",
       "      <td>sGy67CpJctjeCWClWqonjA</td>\n",
       "      <td>3</td>\n",
       "      <td>1</td>\n",
       "      <td>1</td>\n",
       "      <td>0</td>\n",
       "      <td>OK, the hype about having Hatch chili in your ...</td>\n",
       "      <td>2020-01-27 22:59:06</td>\n",
       "    </tr>\n",
       "    <tr>\n",
       "      <th>1</th>\n",
       "      <td>QP2pSzSqpJTMWOCuUuyXkQ</td>\n",
       "      <td>JBLWSXBTKFvJYYiM-FnCOQ</td>\n",
       "      <td>3w7NRntdQ9h0KwDsksIt5Q</td>\n",
       "      <td>5</td>\n",
       "      <td>1</td>\n",
       "      <td>1</td>\n",
       "      <td>1</td>\n",
       "      <td>Pandemic pit stop to have an ice cream.... onl...</td>\n",
       "      <td>2020-04-19 05:33:16</td>\n",
       "    </tr>\n",
       "    <tr>\n",
       "      <th>2</th>\n",
       "      <td>oK0cGYStgDOusZKz9B1qug</td>\n",
       "      <td>2_9fKnXChUjC5xArfF8BLg</td>\n",
       "      <td>OMnPtRGmbY8qH_wIILfYKA</td>\n",
       "      <td>5</td>\n",
       "      <td>1</td>\n",
       "      <td>0</td>\n",
       "      <td>0</td>\n",
       "      <td>I was lucky enough to go to the soft opening a...</td>\n",
       "      <td>2020-02-29 19:43:44</td>\n",
       "    </tr>\n",
       "    <tr>\n",
       "      <th>3</th>\n",
       "      <td>E_ABvFCNVLbfOgRg3Pv1KQ</td>\n",
       "      <td>9MExTQ76GSKhxSWnTS901g</td>\n",
       "      <td>V9XlikTxq0My4gE8LULsjw</td>\n",
       "      <td>5</td>\n",
       "      <td>0</td>\n",
       "      <td>0</td>\n",
       "      <td>0</td>\n",
       "      <td>I've gone to claim Jumpers all over the US and...</td>\n",
       "      <td>2020-03-14 21:47:07</td>\n",
       "    </tr>\n",
       "    <tr>\n",
       "      <th>4</th>\n",
       "      <td>Rd222CrrnXkXukR2iWj69g</td>\n",
       "      <td>LPxuausjvDN88uPr-Q4cQA</td>\n",
       "      <td>CA5BOxKRDPGJgdUQ8OUOpw</td>\n",
       "      <td>4</td>\n",
       "      <td>1</td>\n",
       "      <td>0</td>\n",
       "      <td>0</td>\n",
       "      <td>If you haven't been  to Maynard's kitchen, it'...</td>\n",
       "      <td>2020-01-17 20:32:57</td>\n",
       "    </tr>\n",
       "  </tbody>\n",
       "</table>\n",
       "</div>"
      ],
      "text/plain": [
       "                review_id                 user_id             business_id  \\\n",
       "0  IVS7do_HBzroiCiymNdxDg  fdFgZQQYQJeEAshH4lxSfQ  sGy67CpJctjeCWClWqonjA   \n",
       "1  QP2pSzSqpJTMWOCuUuyXkQ  JBLWSXBTKFvJYYiM-FnCOQ  3w7NRntdQ9h0KwDsksIt5Q   \n",
       "2  oK0cGYStgDOusZKz9B1qug  2_9fKnXChUjC5xArfF8BLg  OMnPtRGmbY8qH_wIILfYKA   \n",
       "3  E_ABvFCNVLbfOgRg3Pv1KQ  9MExTQ76GSKhxSWnTS901g  V9XlikTxq0My4gE8LULsjw   \n",
       "4  Rd222CrrnXkXukR2iWj69g  LPxuausjvDN88uPr-Q4cQA  CA5BOxKRDPGJgdUQ8OUOpw   \n",
       "\n",
       "   stars  useful  funny  cool  \\\n",
       "0      3       1      1     0   \n",
       "1      5       1      1     1   \n",
       "2      5       1      0     0   \n",
       "3      5       0      0     0   \n",
       "4      4       1      0     0   \n",
       "\n",
       "                                                text                 date  \n",
       "0  OK, the hype about having Hatch chili in your ...  2020-01-27 22:59:06  \n",
       "1  Pandemic pit stop to have an ice cream.... onl...  2020-04-19 05:33:16  \n",
       "2  I was lucky enough to go to the soft opening a...  2020-02-29 19:43:44  \n",
       "3  I've gone to claim Jumpers all over the US and...  2020-03-14 21:47:07  \n",
       "4  If you haven't been  to Maynard's kitchen, it'...  2020-01-17 20:32:57  "
      ]
     },
     "metadata": {},
     "output_type": "display_data"
    }
   ],
   "source": [
    "df = pd.read_csv('/Users/kavya/Downloads/GitHub/Datasets/restaurant_reviews_az.csv')\n",
    "display(df.head())  # Shows first few rows"
   ]
  },
  {
   "cell_type": "markdown",
   "id": "a04cc45b-5b1d-4599-ac47-e0ef50cf080b",
   "metadata": {},
   "source": [
    "#### 2. Removing 3-star reviews & creating Sentiment column"
   ]
  },
  {
   "cell_type": "code",
   "execution_count": 49,
   "id": "0d4d497d-c5f1-406b-96bf-cd47252f69f3",
   "metadata": {},
   "outputs": [
    {
     "data": {
      "text/html": [
       "<div>\n",
       "<style scoped>\n",
       "    .dataframe tbody tr th:only-of-type {\n",
       "        vertical-align: middle;\n",
       "    }\n",
       "\n",
       "    .dataframe tbody tr th {\n",
       "        vertical-align: top;\n",
       "    }\n",
       "\n",
       "    .dataframe thead th {\n",
       "        text-align: right;\n",
       "    }\n",
       "</style>\n",
       "<table border=\"1\" class=\"dataframe\">\n",
       "  <thead>\n",
       "    <tr style=\"text-align: right;\">\n",
       "      <th></th>\n",
       "      <th>review_id</th>\n",
       "      <th>user_id</th>\n",
       "      <th>business_id</th>\n",
       "      <th>stars</th>\n",
       "      <th>useful</th>\n",
       "      <th>funny</th>\n",
       "      <th>cool</th>\n",
       "      <th>text</th>\n",
       "      <th>date</th>\n",
       "      <th>Sentiment</th>\n",
       "    </tr>\n",
       "  </thead>\n",
       "  <tbody>\n",
       "    <tr>\n",
       "      <th>1</th>\n",
       "      <td>QP2pSzSqpJTMWOCuUuyXkQ</td>\n",
       "      <td>JBLWSXBTKFvJYYiM-FnCOQ</td>\n",
       "      <td>3w7NRntdQ9h0KwDsksIt5Q</td>\n",
       "      <td>5</td>\n",
       "      <td>1</td>\n",
       "      <td>1</td>\n",
       "      <td>1</td>\n",
       "      <td>Pandemic pit stop to have an ice cream.... onl...</td>\n",
       "      <td>2020-04-19 05:33:16</td>\n",
       "      <td>1</td>\n",
       "    </tr>\n",
       "    <tr>\n",
       "      <th>2</th>\n",
       "      <td>oK0cGYStgDOusZKz9B1qug</td>\n",
       "      <td>2_9fKnXChUjC5xArfF8BLg</td>\n",
       "      <td>OMnPtRGmbY8qH_wIILfYKA</td>\n",
       "      <td>5</td>\n",
       "      <td>1</td>\n",
       "      <td>0</td>\n",
       "      <td>0</td>\n",
       "      <td>I was lucky enough to go to the soft opening a...</td>\n",
       "      <td>2020-02-29 19:43:44</td>\n",
       "      <td>1</td>\n",
       "    </tr>\n",
       "    <tr>\n",
       "      <th>3</th>\n",
       "      <td>E_ABvFCNVLbfOgRg3Pv1KQ</td>\n",
       "      <td>9MExTQ76GSKhxSWnTS901g</td>\n",
       "      <td>V9XlikTxq0My4gE8LULsjw</td>\n",
       "      <td>5</td>\n",
       "      <td>0</td>\n",
       "      <td>0</td>\n",
       "      <td>0</td>\n",
       "      <td>I've gone to claim Jumpers all over the US and...</td>\n",
       "      <td>2020-03-14 21:47:07</td>\n",
       "      <td>1</td>\n",
       "    </tr>\n",
       "    <tr>\n",
       "      <th>4</th>\n",
       "      <td>Rd222CrrnXkXukR2iWj69g</td>\n",
       "      <td>LPxuausjvDN88uPr-Q4cQA</td>\n",
       "      <td>CA5BOxKRDPGJgdUQ8OUOpw</td>\n",
       "      <td>4</td>\n",
       "      <td>1</td>\n",
       "      <td>0</td>\n",
       "      <td>0</td>\n",
       "      <td>If you haven't been  to Maynard's kitchen, it'...</td>\n",
       "      <td>2020-01-17 20:32:57</td>\n",
       "      <td>1</td>\n",
       "    </tr>\n",
       "    <tr>\n",
       "      <th>5</th>\n",
       "      <td>kx6O_lyLzUnA7Xip5wh2NA</td>\n",
       "      <td>YsINprB2G1DM8qG1hbrPUg</td>\n",
       "      <td>rViAhfKLKmwbhTKROM9m0w</td>\n",
       "      <td>1</td>\n",
       "      <td>0</td>\n",
       "      <td>0</td>\n",
       "      <td>0</td>\n",
       "      <td>I stay at the Main Hotel at the Casino from Ju...</td>\n",
       "      <td>2020-07-14 16:43:23</td>\n",
       "      <td>0</td>\n",
       "    </tr>\n",
       "  </tbody>\n",
       "</table>\n",
       "</div>"
      ],
      "text/plain": [
       "                review_id                 user_id             business_id  \\\n",
       "1  QP2pSzSqpJTMWOCuUuyXkQ  JBLWSXBTKFvJYYiM-FnCOQ  3w7NRntdQ9h0KwDsksIt5Q   \n",
       "2  oK0cGYStgDOusZKz9B1qug  2_9fKnXChUjC5xArfF8BLg  OMnPtRGmbY8qH_wIILfYKA   \n",
       "3  E_ABvFCNVLbfOgRg3Pv1KQ  9MExTQ76GSKhxSWnTS901g  V9XlikTxq0My4gE8LULsjw   \n",
       "4  Rd222CrrnXkXukR2iWj69g  LPxuausjvDN88uPr-Q4cQA  CA5BOxKRDPGJgdUQ8OUOpw   \n",
       "5  kx6O_lyLzUnA7Xip5wh2NA  YsINprB2G1DM8qG1hbrPUg  rViAhfKLKmwbhTKROM9m0w   \n",
       "\n",
       "   stars  useful  funny  cool  \\\n",
       "1      5       1      1     1   \n",
       "2      5       1      0     0   \n",
       "3      5       0      0     0   \n",
       "4      4       1      0     0   \n",
       "5      1       0      0     0   \n",
       "\n",
       "                                                text                 date  \\\n",
       "1  Pandemic pit stop to have an ice cream.... onl...  2020-04-19 05:33:16   \n",
       "2  I was lucky enough to go to the soft opening a...  2020-02-29 19:43:44   \n",
       "3  I've gone to claim Jumpers all over the US and...  2020-03-14 21:47:07   \n",
       "4  If you haven't been  to Maynard's kitchen, it'...  2020-01-17 20:32:57   \n",
       "5  I stay at the Main Hotel at the Casino from Ju...  2020-07-14 16:43:23   \n",
       "\n",
       "   Sentiment  \n",
       "1          1  \n",
       "2          1  \n",
       "3          1  \n",
       "4          1  \n",
       "5          0  "
      ]
     },
     "metadata": {},
     "output_type": "display_data"
    }
   ],
   "source": [
    "df = df[df['stars'] != 3]  # Remove neutral reviews\n",
    "df['Sentiment'] = df['stars'].apply(lambda x: 1 if x > 3 else 0)\n",
    "display(df.head())  # Verify sentiment column"
   ]
  },
  {
   "cell_type": "markdown",
   "id": "cc4e9311-2d62-4239-aa05-7e66e52e0070",
   "metadata": {},
   "source": [
    "#### 3. Conducting necessary data processing & splitting into train-test sets"
   ]
  },
  {
   "cell_type": "code",
   "execution_count": 51,
   "id": "79a3bbff-bd42-4899-ab83-57a80e5dde4e",
   "metadata": {},
   "outputs": [],
   "source": [
    "train_data, test_data, train_labels, test_labels = train_test_split(\n",
    "    df['text'], df['Sentiment'], test_size=0.2, random_state=42, stratify=df['Sentiment']\n",
    ")"
   ]
  },
  {
   "cell_type": "markdown",
   "id": "563babab-340e-4d6a-8564-2de2556c4920",
   "metadata": {},
   "source": [
    "#### 4. Applying CountVectorizer"
   ]
  },
  {
   "cell_type": "code",
   "execution_count": 53,
   "id": "9afa9cca-cd30-4a79-b733-486d4a69e8c7",
   "metadata": {},
   "outputs": [],
   "source": [
    "count_vectorizer = CountVectorizer(stop_words='english', max_features=1000)\n",
    "X_train_counts = count_vectorizer.fit_transform(train_data)\n",
    "X_test_counts = count_vectorizer.transform(test_data)"
   ]
  },
  {
   "cell_type": "markdown",
   "id": "f14c8aab-c62e-435c-885a-99eb96f158e2",
   "metadata": {},
   "source": [
    "#### 5. Training Naïve Bayes with CountVectorizer & Evaluating Performance"
   ]
  },
  {
   "cell_type": "code",
   "execution_count": 55,
   "id": "a19cdd5f-57d8-4527-8f3a-c3703aac2a97",
   "metadata": {},
   "outputs": [],
   "source": [
    "nb_model = MultinomialNB()\n",
    "nb_model.fit(X_train_counts, train_labels)\n",
    "nb_pred = nb_model.predict(X_test_counts)"
   ]
  },
  {
   "cell_type": "code",
   "execution_count": 91,
   "id": "33e44cfc-374a-4017-8db7-2082869d03d6",
   "metadata": {},
   "outputs": [
    {
     "name": "stdout",
     "output_type": "stream",
     "text": [
      "Naïve Bayes Classification Report:\n"
     ]
    },
    {
     "data": {
      "text/html": [
       "<div>\n",
       "<style scoped>\n",
       "    .dataframe tbody tr th:only-of-type {\n",
       "        vertical-align: middle;\n",
       "    }\n",
       "\n",
       "    .dataframe tbody tr th {\n",
       "        vertical-align: top;\n",
       "    }\n",
       "\n",
       "    .dataframe thead th {\n",
       "        text-align: right;\n",
       "    }\n",
       "</style>\n",
       "<table border=\"1\" class=\"dataframe\">\n",
       "  <thead>\n",
       "    <tr style=\"text-align: right;\">\n",
       "      <th></th>\n",
       "      <th>precision</th>\n",
       "      <th>recall</th>\n",
       "      <th>f1-score</th>\n",
       "      <th>support</th>\n",
       "    </tr>\n",
       "  </thead>\n",
       "  <tbody>\n",
       "    <tr>\n",
       "      <th>0</th>\n",
       "      <td>0.854994</td>\n",
       "      <td>0.830694</td>\n",
       "      <td>0.842669</td>\n",
       "      <td>2463.000000</td>\n",
       "    </tr>\n",
       "    <tr>\n",
       "      <th>1</th>\n",
       "      <td>0.935107</td>\n",
       "      <td>0.945406</td>\n",
       "      <td>0.940228</td>\n",
       "      <td>6356.000000</td>\n",
       "    </tr>\n",
       "    <tr>\n",
       "      <th>accuracy</th>\n",
       "      <td>0.913369</td>\n",
       "      <td>0.913369</td>\n",
       "      <td>0.913369</td>\n",
       "      <td>0.913369</td>\n",
       "    </tr>\n",
       "    <tr>\n",
       "      <th>macro avg</th>\n",
       "      <td>0.895051</td>\n",
       "      <td>0.888050</td>\n",
       "      <td>0.891449</td>\n",
       "      <td>8819.000000</td>\n",
       "    </tr>\n",
       "    <tr>\n",
       "      <th>weighted avg</th>\n",
       "      <td>0.912733</td>\n",
       "      <td>0.913369</td>\n",
       "      <td>0.912982</td>\n",
       "      <td>8819.000000</td>\n",
       "    </tr>\n",
       "  </tbody>\n",
       "</table>\n",
       "</div>"
      ],
      "text/plain": [
       "              precision    recall  f1-score      support\n",
       "0              0.854994  0.830694  0.842669  2463.000000\n",
       "1              0.935107  0.945406  0.940228  6356.000000\n",
       "accuracy       0.913369  0.913369  0.913369     0.913369\n",
       "macro avg      0.895051  0.888050  0.891449  8819.000000\n",
       "weighted avg   0.912733  0.913369  0.912982  8819.000000"
      ]
     },
     "metadata": {},
     "output_type": "display_data"
    }
   ],
   "source": [
    "nb_report = pd.DataFrame(classification_report(test_labels, nb_pred, output_dict=True)).transpose()\n",
    "print(\"Naïve Bayes Classification Report:\")\n",
    "display(nb_report)"
   ]
  },
  {
   "cell_type": "markdown",
   "id": "94813d5e-8049-4dcd-8241-20e0c488ef6d",
   "metadata": {},
   "source": [
    "#### 6. Training SVM with CountVectorizer & Evaluating Performance"
   ]
  },
  {
   "cell_type": "code",
   "execution_count": 57,
   "id": "b75aaaa1-703c-4211-b04c-d06b58a34e48",
   "metadata": {},
   "outputs": [],
   "source": [
    "svm_model = SVC(kernel='linear')\n",
    "svm_model.fit(X_train_counts, train_labels)\n",
    "svm_pred = svm_model.predict(X_test_counts)"
   ]
  },
  {
   "cell_type": "code",
   "execution_count": 93,
   "id": "df63f48b-8def-44d8-8f63-b1b2d183980b",
   "metadata": {},
   "outputs": [
    {
     "name": "stdout",
     "output_type": "stream",
     "text": [
      "SVM Classification Report:\n"
     ]
    },
    {
     "data": {
      "text/html": [
       "<div>\n",
       "<style scoped>\n",
       "    .dataframe tbody tr th:only-of-type {\n",
       "        vertical-align: middle;\n",
       "    }\n",
       "\n",
       "    .dataframe tbody tr th {\n",
       "        vertical-align: top;\n",
       "    }\n",
       "\n",
       "    .dataframe thead th {\n",
       "        text-align: right;\n",
       "    }\n",
       "</style>\n",
       "<table border=\"1\" class=\"dataframe\">\n",
       "  <thead>\n",
       "    <tr style=\"text-align: right;\">\n",
       "      <th></th>\n",
       "      <th>precision</th>\n",
       "      <th>recall</th>\n",
       "      <th>f1-score</th>\n",
       "      <th>support</th>\n",
       "    </tr>\n",
       "  </thead>\n",
       "  <tbody>\n",
       "    <tr>\n",
       "      <th>0</th>\n",
       "      <td>0.904282</td>\n",
       "      <td>0.874543</td>\n",
       "      <td>0.889164</td>\n",
       "      <td>2463.000000</td>\n",
       "    </tr>\n",
       "    <tr>\n",
       "      <th>1</th>\n",
       "      <td>0.951996</td>\n",
       "      <td>0.964128</td>\n",
       "      <td>0.958024</td>\n",
       "      <td>6356.000000</td>\n",
       "    </tr>\n",
       "    <tr>\n",
       "      <th>accuracy</th>\n",
       "      <td>0.939109</td>\n",
       "      <td>0.939109</td>\n",
       "      <td>0.939109</td>\n",
       "      <td>0.939109</td>\n",
       "    </tr>\n",
       "    <tr>\n",
       "      <th>macro avg</th>\n",
       "      <td>0.928139</td>\n",
       "      <td>0.919336</td>\n",
       "      <td>0.923594</td>\n",
       "      <td>8819.000000</td>\n",
       "    </tr>\n",
       "    <tr>\n",
       "      <th>weighted avg</th>\n",
       "      <td>0.938671</td>\n",
       "      <td>0.939109</td>\n",
       "      <td>0.938793</td>\n",
       "      <td>8819.000000</td>\n",
       "    </tr>\n",
       "  </tbody>\n",
       "</table>\n",
       "</div>"
      ],
      "text/plain": [
       "              precision    recall  f1-score      support\n",
       "0              0.904282  0.874543  0.889164  2463.000000\n",
       "1              0.951996  0.964128  0.958024  6356.000000\n",
       "accuracy       0.939109  0.939109  0.939109     0.939109\n",
       "macro avg      0.928139  0.919336  0.923594  8819.000000\n",
       "weighted avg   0.938671  0.939109  0.938793  8819.000000"
      ]
     },
     "metadata": {},
     "output_type": "display_data"
    }
   ],
   "source": [
    "svm_report = pd.DataFrame(classification_report(test_labels, svm_pred, output_dict=True)).transpose()\n",
    "print(\"SVM Classification Report:\")\n",
    "display(svm_report)"
   ]
  },
  {
   "cell_type": "markdown",
   "id": "694dcf87-be94-43d2-b45a-4feddb7bae64",
   "metadata": {},
   "source": [
    "#### 7. Applying TF-IDF Vectorization"
   ]
  },
  {
   "cell_type": "code",
   "execution_count": 59,
   "id": "5d8d11a5-fb57-4c43-8a89-cd84706616aa",
   "metadata": {},
   "outputs": [],
   "source": [
    "tfidf_vectorizer = TfidfVectorizer(stop_words='english', max_features=1000)\n",
    "X_train_tfidf = tfidf_vectorizer.fit_transform(train_data)\n",
    "X_test_tfidf = tfidf_vectorizer.transform(test_data)"
   ]
  },
  {
   "cell_type": "markdown",
   "id": "3ab46076-74fd-49f9-828a-906ae81e1374",
   "metadata": {},
   "source": [
    "#### 8. Training Naïve Bayes with TF-IDF & Evaluating Performance"
   ]
  },
  {
   "cell_type": "code",
   "execution_count": 61,
   "id": "14675a08-d44b-4167-aa10-918ebb7e33eb",
   "metadata": {},
   "outputs": [],
   "source": [
    "nb_tfidf_model = MultinomialNB()\n",
    "nb_tfidf_model.fit(X_train_tfidf, train_labels)\n",
    "nb_tfidf_pred = nb_tfidf_model.predict(X_test_tfidf)"
   ]
  },
  {
   "cell_type": "code",
   "execution_count": 95,
   "id": "9a004d25-0b1b-4522-9a56-b48ac7c0c9d0",
   "metadata": {},
   "outputs": [
    {
     "name": "stdout",
     "output_type": "stream",
     "text": [
      "Naïve Bayes (TF-IDF) Classification Report:\n"
     ]
    },
    {
     "data": {
      "text/html": [
       "<div>\n",
       "<style scoped>\n",
       "    .dataframe tbody tr th:only-of-type {\n",
       "        vertical-align: middle;\n",
       "    }\n",
       "\n",
       "    .dataframe tbody tr th {\n",
       "        vertical-align: top;\n",
       "    }\n",
       "\n",
       "    .dataframe thead th {\n",
       "        text-align: right;\n",
       "    }\n",
       "</style>\n",
       "<table border=\"1\" class=\"dataframe\">\n",
       "  <thead>\n",
       "    <tr style=\"text-align: right;\">\n",
       "      <th></th>\n",
       "      <th>precision</th>\n",
       "      <th>recall</th>\n",
       "      <th>f1-score</th>\n",
       "      <th>support</th>\n",
       "    </tr>\n",
       "  </thead>\n",
       "  <tbody>\n",
       "    <tr>\n",
       "      <th>0</th>\n",
       "      <td>0.917617</td>\n",
       "      <td>0.719042</td>\n",
       "      <td>0.806283</td>\n",
       "      <td>2463.000000</td>\n",
       "    </tr>\n",
       "    <tr>\n",
       "      <th>1</th>\n",
       "      <td>0.899550</td>\n",
       "      <td>0.974984</td>\n",
       "      <td>0.935749</td>\n",
       "      <td>6356.000000</td>\n",
       "    </tr>\n",
       "    <tr>\n",
       "      <th>accuracy</th>\n",
       "      <td>0.903504</td>\n",
       "      <td>0.903504</td>\n",
       "      <td>0.903504</td>\n",
       "      <td>0.903504</td>\n",
       "    </tr>\n",
       "    <tr>\n",
       "      <th>macro avg</th>\n",
       "      <td>0.908583</td>\n",
       "      <td>0.847013</td>\n",
       "      <td>0.871016</td>\n",
       "      <td>8819.000000</td>\n",
       "    </tr>\n",
       "    <tr>\n",
       "      <th>weighted avg</th>\n",
       "      <td>0.904596</td>\n",
       "      <td>0.903504</td>\n",
       "      <td>0.899591</td>\n",
       "      <td>8819.000000</td>\n",
       "    </tr>\n",
       "  </tbody>\n",
       "</table>\n",
       "</div>"
      ],
      "text/plain": [
       "              precision    recall  f1-score      support\n",
       "0              0.917617  0.719042  0.806283  2463.000000\n",
       "1              0.899550  0.974984  0.935749  6356.000000\n",
       "accuracy       0.903504  0.903504  0.903504     0.903504\n",
       "macro avg      0.908583  0.847013  0.871016  8819.000000\n",
       "weighted avg   0.904596  0.903504  0.899591  8819.000000"
      ]
     },
     "metadata": {},
     "output_type": "display_data"
    }
   ],
   "source": [
    "nb_tfidf_report = pd.DataFrame(classification_report(test_labels, nb_tfidf_pred, output_dict=True)).transpose()\n",
    "print(\"Naïve Bayes (TF-IDF) Classification Report:\")\n",
    "display(nb_tfidf_report)"
   ]
  },
  {
   "cell_type": "markdown",
   "id": "e22e871c-8e23-4cf6-8959-eba8232edc55",
   "metadata": {},
   "source": [
    "#### 9. Training SVM with TF-IDF & Evaluating Performance"
   ]
  },
  {
   "cell_type": "code",
   "execution_count": 63,
   "id": "575c125b-c32a-4eb6-9935-6867be6349c2",
   "metadata": {},
   "outputs": [],
   "source": [
    "svm_tfidf_model = SVC(kernel='linear')\n",
    "svm_tfidf_model.fit(X_train_tfidf, train_labels)\n",
    "svm_tfidf_pred = svm_tfidf_model.predict(X_test_tfidf)"
   ]
  },
  {
   "cell_type": "code",
   "execution_count": 97,
   "id": "b9c4c0b6-4120-499c-b706-3e2d5cadc73d",
   "metadata": {},
   "outputs": [
    {
     "name": "stdout",
     "output_type": "stream",
     "text": [
      "SVM (TF-IDF) Classification Report:\n"
     ]
    },
    {
     "data": {
      "text/html": [
       "<div>\n",
       "<style scoped>\n",
       "    .dataframe tbody tr th:only-of-type {\n",
       "        vertical-align: middle;\n",
       "    }\n",
       "\n",
       "    .dataframe tbody tr th {\n",
       "        vertical-align: top;\n",
       "    }\n",
       "\n",
       "    .dataframe thead th {\n",
       "        text-align: right;\n",
       "    }\n",
       "</style>\n",
       "<table border=\"1\" class=\"dataframe\">\n",
       "  <thead>\n",
       "    <tr style=\"text-align: right;\">\n",
       "      <th></th>\n",
       "      <th>precision</th>\n",
       "      <th>recall</th>\n",
       "      <th>f1-score</th>\n",
       "      <th>support</th>\n",
       "    </tr>\n",
       "  </thead>\n",
       "  <tbody>\n",
       "    <tr>\n",
       "      <th>0</th>\n",
       "      <td>0.911542</td>\n",
       "      <td>0.878603</td>\n",
       "      <td>0.894769</td>\n",
       "      <td>2463.000000</td>\n",
       "    </tr>\n",
       "    <tr>\n",
       "      <th>1</th>\n",
       "      <td>0.953607</td>\n",
       "      <td>0.966960</td>\n",
       "      <td>0.960237</td>\n",
       "      <td>6356.000000</td>\n",
       "    </tr>\n",
       "    <tr>\n",
       "      <th>accuracy</th>\n",
       "      <td>0.942284</td>\n",
       "      <td>0.942284</td>\n",
       "      <td>0.942284</td>\n",
       "      <td>0.942284</td>\n",
       "    </tr>\n",
       "    <tr>\n",
       "      <th>macro avg</th>\n",
       "      <td>0.932575</td>\n",
       "      <td>0.922782</td>\n",
       "      <td>0.927503</td>\n",
       "      <td>8819.000000</td>\n",
       "    </tr>\n",
       "    <tr>\n",
       "      <th>weighted avg</th>\n",
       "      <td>0.941859</td>\n",
       "      <td>0.942284</td>\n",
       "      <td>0.941953</td>\n",
       "      <td>8819.000000</td>\n",
       "    </tr>\n",
       "  </tbody>\n",
       "</table>\n",
       "</div>"
      ],
      "text/plain": [
       "              precision    recall  f1-score      support\n",
       "0              0.911542  0.878603  0.894769  2463.000000\n",
       "1              0.953607  0.966960  0.960237  6356.000000\n",
       "accuracy       0.942284  0.942284  0.942284     0.942284\n",
       "macro avg      0.932575  0.922782  0.927503  8819.000000\n",
       "weighted avg   0.941859  0.942284  0.941953  8819.000000"
      ]
     },
     "metadata": {},
     "output_type": "display_data"
    }
   ],
   "source": [
    "svm_tfidf_report = pd.DataFrame(classification_report(test_labels, svm_tfidf_pred, output_dict=True)).transpose()\n",
    "print(\"SVM (TF-IDF) Classification Report:\")\n",
    "display(svm_tfidf_report)"
   ]
  },
  {
   "cell_type": "markdown",
   "id": "c3fad37e-6cb7-4f53-a9c6-eda592a4e113",
   "metadata": {},
   "source": [
    "#### 10. Using VaderSentiment & Evaluating Performance"
   ]
  },
  {
   "cell_type": "code",
   "execution_count": 65,
   "id": "8a3430fb-00ec-445e-89b1-6d3110842b3c",
   "metadata": {},
   "outputs": [
    {
     "name": "stderr",
     "output_type": "stream",
     "text": [
      "[nltk_data] Downloading package vader_lexicon to\n",
      "[nltk_data]     /Users/kavya/nltk_data...\n",
      "[nltk_data]   Package vader_lexicon is already up-to-date!\n"
     ]
    }
   ],
   "source": [
    "nltk.download('vader_lexicon')\n",
    "sia = SentimentIntensityAnalyzer()\n",
    "\n",
    "df['Vader_Sentiment'] = df['text'].apply(lambda x: 1 if sia.polarity_scores(x)['compound'] >= 0 else 0)"
   ]
  },
  {
   "cell_type": "markdown",
   "id": "1dea7639-e74a-45a8-bac1-f52997cbd7d3",
   "metadata": {},
   "source": [
    "#### 11. Comparing model performance & writing observations"
   ]
  },
  {
   "cell_type": "code",
   "execution_count": 75,
   "id": "6dd8e9b0-325d-4b04-9c7b-39063657c3b8",
   "metadata": {},
   "outputs": [
    {
     "data": {
      "text/html": [
       "<div>\n",
       "<style scoped>\n",
       "    .dataframe tbody tr th:only-of-type {\n",
       "        vertical-align: middle;\n",
       "    }\n",
       "\n",
       "    .dataframe tbody tr th {\n",
       "        vertical-align: top;\n",
       "    }\n",
       "\n",
       "    .dataframe thead th {\n",
       "        text-align: right;\n",
       "    }\n",
       "</style>\n",
       "<table border=\"1\" class=\"dataframe\">\n",
       "  <thead>\n",
       "    <tr style=\"text-align: right;\">\n",
       "      <th></th>\n",
       "      <th>Model</th>\n",
       "      <th>Accuracy</th>\n",
       "    </tr>\n",
       "  </thead>\n",
       "  <tbody>\n",
       "    <tr>\n",
       "      <th>0</th>\n",
       "      <td>Naïve Bayes (CountVec)</td>\n",
       "      <td>0.913369</td>\n",
       "    </tr>\n",
       "    <tr>\n",
       "      <th>1</th>\n",
       "      <td>SVM (CountVec)</td>\n",
       "      <td>0.939109</td>\n",
       "    </tr>\n",
       "    <tr>\n",
       "      <th>2</th>\n",
       "      <td>Naïve Bayes (TF-IDF)</td>\n",
       "      <td>0.903504</td>\n",
       "    </tr>\n",
       "    <tr>\n",
       "      <th>3</th>\n",
       "      <td>SVM (TF-IDF)</td>\n",
       "      <td>0.942284</td>\n",
       "    </tr>\n",
       "    <tr>\n",
       "      <th>4</th>\n",
       "      <td>Vader Sentiment</td>\n",
       "      <td>0.866079</td>\n",
       "    </tr>\n",
       "  </tbody>\n",
       "</table>\n",
       "</div>"
      ],
      "text/plain": [
       "                    Model  Accuracy\n",
       "0  Naïve Bayes (CountVec)  0.913369\n",
       "1          SVM (CountVec)  0.939109\n",
       "2    Naïve Bayes (TF-IDF)  0.903504\n",
       "3            SVM (TF-IDF)  0.942284\n",
       "4         Vader Sentiment  0.866079"
      ]
     },
     "metadata": {},
     "output_type": "display_data"
    }
   ],
   "source": [
    "model_results = pd.DataFrame({\n",
    "    'Model': ['Naïve Bayes (CountVec)', 'SVM (CountVec)', 'Naïve Bayes (TF-IDF)', 'SVM (TF-IDF)', 'Vader Sentiment'],\n",
    "    'Accuracy': [\n",
    "        accuracy_score(test_labels, nb_pred),\n",
    "        accuracy_score(test_labels, svm_pred),\n",
    "        accuracy_score(test_labels, nb_tfidf_pred),\n",
    "        accuracy_score(test_labels, svm_tfidf_pred),\n",
    "        accuracy_score(df['Sentiment'], df['Vader_Sentiment'])\n",
    "    ]\n",
    "})\n",
    "\n",
    "display(model_results)  "
   ]
  },
  {
   "cell_type": "markdown",
   "id": "bc0fd6dd-0cbd-481e-91b0-19149d0b1e68",
   "metadata": {},
   "source": [
    "### Observations on Sentiment Analysis Model Performance\n",
    "\n",
    "#### **1. Naïve Bayes (CountVectorizer)**\n",
    "- **Accuracy: 91.34%**\n",
    "- Works well for text classification but may struggle with complex linguistic structures.\n",
    "- Relies heavily on word frequency, making it sensitive to stopwords.\n",
    "\n",
    "#### **2. SVM (CountVectorizer)**\n",
    "- **Accuracy: 93.91%**\n",
    "- Performs better than Naïve Bayes in handling high-dimensional text data.\n",
    "- Computationally more expensive but provides better generalization.\n",
    "\n",
    "#### **3. Naïve Bayes (TF-IDF)**\n",
    "- **Accuracy: 90.35%**\n",
    "- Improved accuracy compared to CountVectorizer since TF-IDF assigns better importance to meaningful words.\n",
    "- Still assumes word independence, which may impact classification.\n",
    "\n",
    "#### **4. SVM (TF-IDF)**\n",
    "- **Accuracy: 94.22%**\n",
    "- Best-performing model among traditional ML approaches.\n",
    "- Benefits from TF-IDF’s weighting mechanism and SVM’s ability to find optimal hyperplanes.\n",
    "\n",
    "#### **5. Vader Sentiment Analysis**\n",
    "- **Accuracy: 86.61%**\n",
    "- Performs well on shorter text but lacks depth for nuanced sentiments.\n",
    "- Does not require labeled data, making it useful for quick sentiment assessment.\n",
    "\n",
    "#### **6. Overall Comparison**\n",
    "- **SVM with TF-IDF (94.22%) performed the best**, confirming its effectiveness in text classification.\n",
    "- **Naïve Bayes performed well**, but its assumption of word independence limits its potential.\n",
    "- **Vader Sentiment is useful for quick lexicon-based analysis but not as strong as ML models**.\n",
    "- **Future improvements** could include deep learning models (LSTMs, Transformers) for better sentiment detection."
   ]
  }
 ],
 "metadata": {
  "kernelspec": {
   "display_name": "Python 3 (ipykernel)",
   "language": "python",
   "name": "python3"
  },
  "language_info": {
   "codemirror_mode": {
    "name": "ipython",
    "version": 3
   },
   "file_extension": ".py",
   "mimetype": "text/x-python",
   "name": "python",
   "nbconvert_exporter": "python",
   "pygments_lexer": "ipython3",
   "version": "3.12.2"
  }
 },
 "nbformat": 4,
 "nbformat_minor": 5
}
